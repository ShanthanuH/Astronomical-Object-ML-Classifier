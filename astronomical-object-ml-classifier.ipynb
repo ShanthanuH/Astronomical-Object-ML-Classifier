{
 "cells": [
  {
   "cell_type": "code",
   "execution_count": 1,
   "id": "b39271ae",
   "metadata": {
    "_cell_guid": "b1076dfc-b9ad-4769-8c92-a6c4dae69d19",
    "_uuid": "8f2839f25d086af736a60e9eeb907d3b93b6e0e5",
    "execution": {
     "iopub.execute_input": "2023-11-08T14:40:14.470186Z",
     "iopub.status.busy": "2023-11-08T14:40:14.469336Z",
     "iopub.status.idle": "2023-11-08T14:40:14.883592Z",
     "shell.execute_reply": "2023-11-08T14:40:14.882515Z"
    },
    "papermill": {
     "duration": 0.4277,
     "end_time": "2023-11-08T14:40:14.887951",
     "exception": false,
     "start_time": "2023-11-08T14:40:14.460251",
     "status": "completed"
    },
    "tags": []
   },
   "outputs": [
    {
     "name": "stdout",
     "output_type": "stream",
     "text": [
      "/kaggle/input/sloan-digital-sky-survey/Skyserver_SQL2_27_2018 6_51_39 PM.csv\n"
     ]
    }
   ],
   "source": [
    "# This Python 3 environment comes with many helpful analytics libraries installed\n",
    "# It is defined by the kaggle/python Docker image: https://github.com/kaggle/docker-python\n",
    "# For example, here's several helpful packages to load\n",
    "\n",
    "import numpy as np # linear algebra\n",
    "import pandas as pd # data processing, CSV file I/O (e.g. pd.read_csv)\n",
    "\n",
    "# Input data files are available in the read-only \"../input/\" directory\n",
    "# For example, running this (by clicking run or pressing Shift+Enter) will list all files under the input directory\n",
    "\n",
    "import os\n",
    "for dirname, _, filenames in os.walk('/kaggle/input'):\n",
    "    for filename in filenames:\n",
    "        print(os.path.join(dirname, filename))\n",
    "\n",
    "# You can write up to 20GB to the current directory (/kaggle/working/) that gets preserved as output when you create a version using \"Save & Run All\" \n",
    "# You can also write temporary files to /kaggle/temp/, but they won't be saved outside of the current session"
   ]
  },
  {
   "cell_type": "code",
   "execution_count": 2,
   "id": "9ed57d86",
   "metadata": {
    "execution": {
     "iopub.execute_input": "2023-11-08T14:40:14.903409Z",
     "iopub.status.busy": "2023-11-08T14:40:14.902887Z",
     "iopub.status.idle": "2023-11-08T14:40:25.521148Z",
     "shell.execute_reply": "2023-11-08T14:40:25.519984Z"
    },
    "papermill": {
     "duration": 10.629144,
     "end_time": "2023-11-08T14:40:25.523851",
     "exception": false,
     "start_time": "2023-11-08T14:40:14.894707",
     "status": "completed"
    },
    "tags": []
   },
   "outputs": [],
   "source": [
    "#Importing Necessary Libraries\n",
    "\n",
    "'''Operating System Functionality'''\n",
    "import os\n",
    "\n",
    "'''Data Handling & Linear Algebra'''\n",
    "import numpy as np\n",
    "import pandas as pd\n",
    "\n",
    "import matplotlib.pyplot as plt\n",
    "import seaborn as sns\n",
    "\n",
    "import tensorflow as tf\n",
    "from tensorflow import keras\n",
    "\n",
    "from sklearn.model_selection import train_test_split\n",
    "from sklearn.preprocessing import LabelEncoder\n",
    "\n",
    "from sklearn.metrics import accuracy_score\n",
    "\n",
    "from sklearn.tree import DecisionTreeClassifier\n",
    "from sklearn.linear_model import LogisticRegression\n",
    "from sklearn.naive_bayes import MultinomialNB\n",
    "from sklearn.neighbors import KNeighborsClassifier\n",
    "from sklearn.svm import SVC\n",
    "\n",
    "import warnings\n",
    "warnings.filterwarnings(\"ignore\")\n",
    "\n",
    "%matplotlib inline"
   ]
  },
  {
   "cell_type": "code",
   "execution_count": 3,
   "id": "91f2440c",
   "metadata": {
    "execution": {
     "iopub.execute_input": "2023-11-08T14:40:25.539426Z",
     "iopub.status.busy": "2023-11-08T14:40:25.538751Z",
     "iopub.status.idle": "2023-11-08T14:40:25.547779Z",
     "shell.execute_reply": "2023-11-08T14:40:25.546460Z"
    },
    "papermill": {
     "duration": 0.019294,
     "end_time": "2023-11-08T14:40:25.549918",
     "exception": false,
     "start_time": "2023-11-08T14:40:25.530624",
     "status": "completed"
    },
    "tags": []
   },
   "outputs": [
    {
     "name": "stdout",
     "output_type": "stream",
     "text": [
      "/kaggle/input/sloan-digital-sky-survey/Skyserver_SQL2_27_2018 6_51_39 PM.csv\n"
     ]
    }
   ],
   "source": [
    "for dirname, _, filenames in os.walk('/kaggle/input'):\n",
    "    for filename in filenames:\n",
    "        print(os.path.join(dirname, filename))"
   ]
  },
  {
   "cell_type": "code",
   "execution_count": 4,
   "id": "6dda2b71",
   "metadata": {
    "execution": {
     "iopub.execute_input": "2023-11-08T14:40:25.564916Z",
     "iopub.status.busy": "2023-11-08T14:40:25.564520Z",
     "iopub.status.idle": "2023-11-08T14:40:25.633278Z",
     "shell.execute_reply": "2023-11-08T14:40:25.632384Z"
    },
    "papermill": {
     "duration": 0.079198,
     "end_time": "2023-11-08T14:40:25.635855",
     "exception": false,
     "start_time": "2023-11-08T14:40:25.556657",
     "status": "completed"
    },
    "tags": []
   },
   "outputs": [],
   "source": [
    "#Loading data into a dataframe\n",
    "data = pd.read_csv(\"/kaggle/input/sloan-digital-sky-survey/Skyserver_SQL2_27_2018 6_51_39 PM.csv\")"
   ]
  },
  {
   "cell_type": "code",
   "execution_count": 5,
   "id": "4f5667a5",
   "metadata": {
    "execution": {
     "iopub.execute_input": "2023-11-08T14:40:25.651307Z",
     "iopub.status.busy": "2023-11-08T14:40:25.650537Z",
     "iopub.status.idle": "2023-11-08T14:40:25.683402Z",
     "shell.execute_reply": "2023-11-08T14:40:25.682307Z"
    },
    "papermill": {
     "duration": 0.043082,
     "end_time": "2023-11-08T14:40:25.685836",
     "exception": false,
     "start_time": "2023-11-08T14:40:25.642754",
     "status": "completed"
    },
    "tags": []
   },
   "outputs": [
    {
     "data": {
      "text/html": [
       "<div>\n",
       "<style scoped>\n",
       "    .dataframe tbody tr th:only-of-type {\n",
       "        vertical-align: middle;\n",
       "    }\n",
       "\n",
       "    .dataframe tbody tr th {\n",
       "        vertical-align: top;\n",
       "    }\n",
       "\n",
       "    .dataframe thead th {\n",
       "        text-align: right;\n",
       "    }\n",
       "</style>\n",
       "<table border=\"1\" class=\"dataframe\">\n",
       "  <thead>\n",
       "    <tr style=\"text-align: right;\">\n",
       "      <th></th>\n",
       "      <th>objid</th>\n",
       "      <th>ra</th>\n",
       "      <th>dec</th>\n",
       "      <th>u</th>\n",
       "      <th>g</th>\n",
       "      <th>r</th>\n",
       "      <th>i</th>\n",
       "      <th>z</th>\n",
       "      <th>run</th>\n",
       "      <th>rerun</th>\n",
       "      <th>camcol</th>\n",
       "      <th>field</th>\n",
       "      <th>specobjid</th>\n",
       "      <th>class</th>\n",
       "      <th>redshift</th>\n",
       "      <th>plate</th>\n",
       "      <th>mjd</th>\n",
       "      <th>fiberid</th>\n",
       "    </tr>\n",
       "  </thead>\n",
       "  <tbody>\n",
       "    <tr>\n",
       "      <th>0</th>\n",
       "      <td>1.237650e+18</td>\n",
       "      <td>183.531326</td>\n",
       "      <td>0.089693</td>\n",
       "      <td>19.47406</td>\n",
       "      <td>17.04240</td>\n",
       "      <td>15.94699</td>\n",
       "      <td>15.50342</td>\n",
       "      <td>15.22531</td>\n",
       "      <td>752</td>\n",
       "      <td>301</td>\n",
       "      <td>4</td>\n",
       "      <td>267</td>\n",
       "      <td>3.722360e+18</td>\n",
       "      <td>STAR</td>\n",
       "      <td>-0.000009</td>\n",
       "      <td>3306</td>\n",
       "      <td>54922</td>\n",
       "      <td>491</td>\n",
       "    </tr>\n",
       "    <tr>\n",
       "      <th>1</th>\n",
       "      <td>1.237650e+18</td>\n",
       "      <td>183.598370</td>\n",
       "      <td>0.135285</td>\n",
       "      <td>18.66280</td>\n",
       "      <td>17.21449</td>\n",
       "      <td>16.67637</td>\n",
       "      <td>16.48922</td>\n",
       "      <td>16.39150</td>\n",
       "      <td>752</td>\n",
       "      <td>301</td>\n",
       "      <td>4</td>\n",
       "      <td>267</td>\n",
       "      <td>3.638140e+17</td>\n",
       "      <td>STAR</td>\n",
       "      <td>-0.000055</td>\n",
       "      <td>323</td>\n",
       "      <td>51615</td>\n",
       "      <td>541</td>\n",
       "    </tr>\n",
       "    <tr>\n",
       "      <th>2</th>\n",
       "      <td>1.237650e+18</td>\n",
       "      <td>183.680207</td>\n",
       "      <td>0.126185</td>\n",
       "      <td>19.38298</td>\n",
       "      <td>18.19169</td>\n",
       "      <td>17.47428</td>\n",
       "      <td>17.08732</td>\n",
       "      <td>16.80125</td>\n",
       "      <td>752</td>\n",
       "      <td>301</td>\n",
       "      <td>4</td>\n",
       "      <td>268</td>\n",
       "      <td>3.232740e+17</td>\n",
       "      <td>GALAXY</td>\n",
       "      <td>0.123111</td>\n",
       "      <td>287</td>\n",
       "      <td>52023</td>\n",
       "      <td>513</td>\n",
       "    </tr>\n",
       "    <tr>\n",
       "      <th>3</th>\n",
       "      <td>1.237650e+18</td>\n",
       "      <td>183.870529</td>\n",
       "      <td>0.049911</td>\n",
       "      <td>17.76536</td>\n",
       "      <td>16.60272</td>\n",
       "      <td>16.16116</td>\n",
       "      <td>15.98233</td>\n",
       "      <td>15.90438</td>\n",
       "      <td>752</td>\n",
       "      <td>301</td>\n",
       "      <td>4</td>\n",
       "      <td>269</td>\n",
       "      <td>3.722370e+18</td>\n",
       "      <td>STAR</td>\n",
       "      <td>-0.000111</td>\n",
       "      <td>3306</td>\n",
       "      <td>54922</td>\n",
       "      <td>510</td>\n",
       "    </tr>\n",
       "    <tr>\n",
       "      <th>4</th>\n",
       "      <td>1.237650e+18</td>\n",
       "      <td>183.883288</td>\n",
       "      <td>0.102557</td>\n",
       "      <td>17.55025</td>\n",
       "      <td>16.26342</td>\n",
       "      <td>16.43869</td>\n",
       "      <td>16.55492</td>\n",
       "      <td>16.61326</td>\n",
       "      <td>752</td>\n",
       "      <td>301</td>\n",
       "      <td>4</td>\n",
       "      <td>269</td>\n",
       "      <td>3.722370e+18</td>\n",
       "      <td>STAR</td>\n",
       "      <td>0.000590</td>\n",
       "      <td>3306</td>\n",
       "      <td>54922</td>\n",
       "      <td>512</td>\n",
       "    </tr>\n",
       "  </tbody>\n",
       "</table>\n",
       "</div>"
      ],
      "text/plain": [
       "          objid          ra       dec         u         g         r         i  \\\n",
       "0  1.237650e+18  183.531326  0.089693  19.47406  17.04240  15.94699  15.50342   \n",
       "1  1.237650e+18  183.598370  0.135285  18.66280  17.21449  16.67637  16.48922   \n",
       "2  1.237650e+18  183.680207  0.126185  19.38298  18.19169  17.47428  17.08732   \n",
       "3  1.237650e+18  183.870529  0.049911  17.76536  16.60272  16.16116  15.98233   \n",
       "4  1.237650e+18  183.883288  0.102557  17.55025  16.26342  16.43869  16.55492   \n",
       "\n",
       "          z  run  rerun  camcol  field     specobjid   class  redshift  plate  \\\n",
       "0  15.22531  752    301       4    267  3.722360e+18    STAR -0.000009   3306   \n",
       "1  16.39150  752    301       4    267  3.638140e+17    STAR -0.000055    323   \n",
       "2  16.80125  752    301       4    268  3.232740e+17  GALAXY  0.123111    287   \n",
       "3  15.90438  752    301       4    269  3.722370e+18    STAR -0.000111   3306   \n",
       "4  16.61326  752    301       4    269  3.722370e+18    STAR  0.000590   3306   \n",
       "\n",
       "     mjd  fiberid  \n",
       "0  54922      491  \n",
       "1  51615      541  \n",
       "2  52023      513  \n",
       "3  54922      510  \n",
       "4  54922      512  "
      ]
     },
     "execution_count": 5,
     "metadata": {},
     "output_type": "execute_result"
    }
   ],
   "source": [
    "#Displaying the first 5 rows of the dataset\n",
    "data.head()"
   ]
  },
  {
   "cell_type": "code",
   "execution_count": 6,
   "id": "e5b898da",
   "metadata": {
    "execution": {
     "iopub.execute_input": "2023-11-08T14:40:25.701335Z",
     "iopub.status.busy": "2023-11-08T14:40:25.700891Z",
     "iopub.status.idle": "2023-11-08T14:40:25.714928Z",
     "shell.execute_reply": "2023-11-08T14:40:25.713635Z"
    },
    "papermill": {
     "duration": 0.024424,
     "end_time": "2023-11-08T14:40:25.717192",
     "exception": false,
     "start_time": "2023-11-08T14:40:25.692768",
     "status": "completed"
    },
    "tags": []
   },
   "outputs": [],
   "source": [
    "data.drop(['objid', 'specobjid'], axis=1, inplace=True)"
   ]
  },
  {
   "cell_type": "code",
   "execution_count": 7,
   "id": "4eb762b3",
   "metadata": {
    "execution": {
     "iopub.execute_input": "2023-11-08T14:40:25.735304Z",
     "iopub.status.busy": "2023-11-08T14:40:25.734806Z",
     "iopub.status.idle": "2023-11-08T14:40:25.758104Z",
     "shell.execute_reply": "2023-11-08T14:40:25.757007Z"
    },
    "papermill": {
     "duration": 0.036151,
     "end_time": "2023-11-08T14:40:25.760512",
     "exception": false,
     "start_time": "2023-11-08T14:40:25.724361",
     "status": "completed"
    },
    "tags": []
   },
   "outputs": [
    {
     "data": {
      "text/html": [
       "<div>\n",
       "<style scoped>\n",
       "    .dataframe tbody tr th:only-of-type {\n",
       "        vertical-align: middle;\n",
       "    }\n",
       "\n",
       "    .dataframe tbody tr th {\n",
       "        vertical-align: top;\n",
       "    }\n",
       "\n",
       "    .dataframe thead th {\n",
       "        text-align: right;\n",
       "    }\n",
       "</style>\n",
       "<table border=\"1\" class=\"dataframe\">\n",
       "  <thead>\n",
       "    <tr style=\"text-align: right;\">\n",
       "      <th></th>\n",
       "      <th>ra</th>\n",
       "      <th>dec</th>\n",
       "      <th>u</th>\n",
       "      <th>g</th>\n",
       "      <th>r</th>\n",
       "      <th>i</th>\n",
       "      <th>z</th>\n",
       "      <th>run</th>\n",
       "      <th>rerun</th>\n",
       "      <th>camcol</th>\n",
       "      <th>field</th>\n",
       "      <th>class</th>\n",
       "      <th>redshift</th>\n",
       "      <th>plate</th>\n",
       "      <th>mjd</th>\n",
       "      <th>fiberid</th>\n",
       "    </tr>\n",
       "  </thead>\n",
       "  <tbody>\n",
       "    <tr>\n",
       "      <th>0</th>\n",
       "      <td>183.531326</td>\n",
       "      <td>0.089693</td>\n",
       "      <td>19.47406</td>\n",
       "      <td>17.04240</td>\n",
       "      <td>15.94699</td>\n",
       "      <td>15.50342</td>\n",
       "      <td>15.22531</td>\n",
       "      <td>752</td>\n",
       "      <td>301</td>\n",
       "      <td>4</td>\n",
       "      <td>267</td>\n",
       "      <td>STAR</td>\n",
       "      <td>-0.000009</td>\n",
       "      <td>3306</td>\n",
       "      <td>54922</td>\n",
       "      <td>491</td>\n",
       "    </tr>\n",
       "    <tr>\n",
       "      <th>1</th>\n",
       "      <td>183.598370</td>\n",
       "      <td>0.135285</td>\n",
       "      <td>18.66280</td>\n",
       "      <td>17.21449</td>\n",
       "      <td>16.67637</td>\n",
       "      <td>16.48922</td>\n",
       "      <td>16.39150</td>\n",
       "      <td>752</td>\n",
       "      <td>301</td>\n",
       "      <td>4</td>\n",
       "      <td>267</td>\n",
       "      <td>STAR</td>\n",
       "      <td>-0.000055</td>\n",
       "      <td>323</td>\n",
       "      <td>51615</td>\n",
       "      <td>541</td>\n",
       "    </tr>\n",
       "    <tr>\n",
       "      <th>2</th>\n",
       "      <td>183.680207</td>\n",
       "      <td>0.126185</td>\n",
       "      <td>19.38298</td>\n",
       "      <td>18.19169</td>\n",
       "      <td>17.47428</td>\n",
       "      <td>17.08732</td>\n",
       "      <td>16.80125</td>\n",
       "      <td>752</td>\n",
       "      <td>301</td>\n",
       "      <td>4</td>\n",
       "      <td>268</td>\n",
       "      <td>GALAXY</td>\n",
       "      <td>0.123111</td>\n",
       "      <td>287</td>\n",
       "      <td>52023</td>\n",
       "      <td>513</td>\n",
       "    </tr>\n",
       "    <tr>\n",
       "      <th>3</th>\n",
       "      <td>183.870529</td>\n",
       "      <td>0.049911</td>\n",
       "      <td>17.76536</td>\n",
       "      <td>16.60272</td>\n",
       "      <td>16.16116</td>\n",
       "      <td>15.98233</td>\n",
       "      <td>15.90438</td>\n",
       "      <td>752</td>\n",
       "      <td>301</td>\n",
       "      <td>4</td>\n",
       "      <td>269</td>\n",
       "      <td>STAR</td>\n",
       "      <td>-0.000111</td>\n",
       "      <td>3306</td>\n",
       "      <td>54922</td>\n",
       "      <td>510</td>\n",
       "    </tr>\n",
       "    <tr>\n",
       "      <th>4</th>\n",
       "      <td>183.883288</td>\n",
       "      <td>0.102557</td>\n",
       "      <td>17.55025</td>\n",
       "      <td>16.26342</td>\n",
       "      <td>16.43869</td>\n",
       "      <td>16.55492</td>\n",
       "      <td>16.61326</td>\n",
       "      <td>752</td>\n",
       "      <td>301</td>\n",
       "      <td>4</td>\n",
       "      <td>269</td>\n",
       "      <td>STAR</td>\n",
       "      <td>0.000590</td>\n",
       "      <td>3306</td>\n",
       "      <td>54922</td>\n",
       "      <td>512</td>\n",
       "    </tr>\n",
       "    <tr>\n",
       "      <th>5</th>\n",
       "      <td>183.847174</td>\n",
       "      <td>0.173694</td>\n",
       "      <td>19.43133</td>\n",
       "      <td>18.46779</td>\n",
       "      <td>18.16451</td>\n",
       "      <td>18.01475</td>\n",
       "      <td>18.04155</td>\n",
       "      <td>752</td>\n",
       "      <td>301</td>\n",
       "      <td>4</td>\n",
       "      <td>269</td>\n",
       "      <td>STAR</td>\n",
       "      <td>0.000315</td>\n",
       "      <td>324</td>\n",
       "      <td>51666</td>\n",
       "      <td>594</td>\n",
       "    </tr>\n",
       "    <tr>\n",
       "      <th>6</th>\n",
       "      <td>183.864379</td>\n",
       "      <td>0.019201</td>\n",
       "      <td>19.38322</td>\n",
       "      <td>17.88995</td>\n",
       "      <td>17.10537</td>\n",
       "      <td>16.66393</td>\n",
       "      <td>16.36955</td>\n",
       "      <td>752</td>\n",
       "      <td>301</td>\n",
       "      <td>4</td>\n",
       "      <td>269</td>\n",
       "      <td>GALAXY</td>\n",
       "      <td>0.100242</td>\n",
       "      <td>287</td>\n",
       "      <td>52023</td>\n",
       "      <td>559</td>\n",
       "    </tr>\n",
       "    <tr>\n",
       "      <th>7</th>\n",
       "      <td>183.900081</td>\n",
       "      <td>0.187473</td>\n",
       "      <td>18.97993</td>\n",
       "      <td>17.84496</td>\n",
       "      <td>17.38022</td>\n",
       "      <td>17.20673</td>\n",
       "      <td>17.07071</td>\n",
       "      <td>752</td>\n",
       "      <td>301</td>\n",
       "      <td>4</td>\n",
       "      <td>269</td>\n",
       "      <td>STAR</td>\n",
       "      <td>0.000315</td>\n",
       "      <td>3306</td>\n",
       "      <td>54922</td>\n",
       "      <td>515</td>\n",
       "    </tr>\n",
       "    <tr>\n",
       "      <th>8</th>\n",
       "      <td>183.924588</td>\n",
       "      <td>0.097246</td>\n",
       "      <td>17.90616</td>\n",
       "      <td>16.97172</td>\n",
       "      <td>16.67541</td>\n",
       "      <td>16.53776</td>\n",
       "      <td>16.47596</td>\n",
       "      <td>752</td>\n",
       "      <td>301</td>\n",
       "      <td>4</td>\n",
       "      <td>270</td>\n",
       "      <td>STAR</td>\n",
       "      <td>0.000089</td>\n",
       "      <td>323</td>\n",
       "      <td>51615</td>\n",
       "      <td>595</td>\n",
       "    </tr>\n",
       "    <tr>\n",
       "      <th>9</th>\n",
       "      <td>183.973498</td>\n",
       "      <td>0.081626</td>\n",
       "      <td>18.67249</td>\n",
       "      <td>17.71375</td>\n",
       "      <td>17.49362</td>\n",
       "      <td>17.28284</td>\n",
       "      <td>17.22644</td>\n",
       "      <td>752</td>\n",
       "      <td>301</td>\n",
       "      <td>4</td>\n",
       "      <td>270</td>\n",
       "      <td>GALAXY</td>\n",
       "      <td>0.040508</td>\n",
       "      <td>288</td>\n",
       "      <td>52000</td>\n",
       "      <td>400</td>\n",
       "    </tr>\n",
       "  </tbody>\n",
       "</table>\n",
       "</div>"
      ],
      "text/plain": [
       "           ra       dec         u         g         r         i         z  \\\n",
       "0  183.531326  0.089693  19.47406  17.04240  15.94699  15.50342  15.22531   \n",
       "1  183.598370  0.135285  18.66280  17.21449  16.67637  16.48922  16.39150   \n",
       "2  183.680207  0.126185  19.38298  18.19169  17.47428  17.08732  16.80125   \n",
       "3  183.870529  0.049911  17.76536  16.60272  16.16116  15.98233  15.90438   \n",
       "4  183.883288  0.102557  17.55025  16.26342  16.43869  16.55492  16.61326   \n",
       "5  183.847174  0.173694  19.43133  18.46779  18.16451  18.01475  18.04155   \n",
       "6  183.864379  0.019201  19.38322  17.88995  17.10537  16.66393  16.36955   \n",
       "7  183.900081  0.187473  18.97993  17.84496  17.38022  17.20673  17.07071   \n",
       "8  183.924588  0.097246  17.90616  16.97172  16.67541  16.53776  16.47596   \n",
       "9  183.973498  0.081626  18.67249  17.71375  17.49362  17.28284  17.22644   \n",
       "\n",
       "   run  rerun  camcol  field   class  redshift  plate    mjd  fiberid  \n",
       "0  752    301       4    267    STAR -0.000009   3306  54922      491  \n",
       "1  752    301       4    267    STAR -0.000055    323  51615      541  \n",
       "2  752    301       4    268  GALAXY  0.123111    287  52023      513  \n",
       "3  752    301       4    269    STAR -0.000111   3306  54922      510  \n",
       "4  752    301       4    269    STAR  0.000590   3306  54922      512  \n",
       "5  752    301       4    269    STAR  0.000315    324  51666      594  \n",
       "6  752    301       4    269  GALAXY  0.100242    287  52023      559  \n",
       "7  752    301       4    269    STAR  0.000315   3306  54922      515  \n",
       "8  752    301       4    270    STAR  0.000089    323  51615      595  \n",
       "9  752    301       4    270  GALAXY  0.040508    288  52000      400  "
      ]
     },
     "execution_count": 7,
     "metadata": {},
     "output_type": "execute_result"
    }
   ],
   "source": [
    "data.head(10)"
   ]
  },
  {
   "cell_type": "code",
   "execution_count": 8,
   "id": "fa9d6f1d",
   "metadata": {
    "execution": {
     "iopub.execute_input": "2023-11-08T14:40:25.777487Z",
     "iopub.status.busy": "2023-11-08T14:40:25.777109Z",
     "iopub.status.idle": "2023-11-08T14:40:25.801275Z",
     "shell.execute_reply": "2023-11-08T14:40:25.800497Z"
    },
    "papermill": {
     "duration": 0.035363,
     "end_time": "2023-11-08T14:40:25.803504",
     "exception": false,
     "start_time": "2023-11-08T14:40:25.768141",
     "status": "completed"
    },
    "tags": []
   },
   "outputs": [
    {
     "name": "stdout",
     "output_type": "stream",
     "text": [
      "<class 'pandas.core.frame.DataFrame'>\n",
      "RangeIndex: 10000 entries, 0 to 9999\n",
      "Data columns (total 16 columns):\n",
      " #   Column    Non-Null Count  Dtype  \n",
      "---  ------    --------------  -----  \n",
      " 0   ra        10000 non-null  float64\n",
      " 1   dec       10000 non-null  float64\n",
      " 2   u         10000 non-null  float64\n",
      " 3   g         10000 non-null  float64\n",
      " 4   r         10000 non-null  float64\n",
      " 5   i         10000 non-null  float64\n",
      " 6   z         10000 non-null  float64\n",
      " 7   run       10000 non-null  int64  \n",
      " 8   rerun     10000 non-null  int64  \n",
      " 9   camcol    10000 non-null  int64  \n",
      " 10  field     10000 non-null  int64  \n",
      " 11  class     10000 non-null  object \n",
      " 12  redshift  10000 non-null  float64\n",
      " 13  plate     10000 non-null  int64  \n",
      " 14  mjd       10000 non-null  int64  \n",
      " 15  fiberid   10000 non-null  int64  \n",
      "dtypes: float64(8), int64(7), object(1)\n",
      "memory usage: 1.2+ MB\n"
     ]
    }
   ],
   "source": [
    "data.info()"
   ]
  },
  {
   "cell_type": "code",
   "execution_count": 9,
   "id": "373621f0",
   "metadata": {
    "execution": {
     "iopub.execute_input": "2023-11-08T14:40:25.820312Z",
     "iopub.status.busy": "2023-11-08T14:40:25.819580Z",
     "iopub.status.idle": "2023-11-08T14:40:25.828432Z",
     "shell.execute_reply": "2023-11-08T14:40:25.827395Z"
    },
    "papermill": {
     "duration": 0.019573,
     "end_time": "2023-11-08T14:40:25.830419",
     "exception": false,
     "start_time": "2023-11-08T14:40:25.810846",
     "status": "completed"
    },
    "tags": []
   },
   "outputs": [],
   "source": [
    "le = LabelEncoder().fit(data['class'])\n",
    "data['class'] = le.transform(data['class'])"
   ]
  },
  {
   "cell_type": "code",
   "execution_count": 10,
   "id": "83ce0489",
   "metadata": {
    "execution": {
     "iopub.execute_input": "2023-11-08T14:40:25.846159Z",
     "iopub.status.busy": "2023-11-08T14:40:25.845793Z",
     "iopub.status.idle": "2023-11-08T14:40:25.852292Z",
     "shell.execute_reply": "2023-11-08T14:40:25.851095Z"
    },
    "papermill": {
     "duration": 0.016546,
     "end_time": "2023-11-08T14:40:25.854284",
     "exception": false,
     "start_time": "2023-11-08T14:40:25.837738",
     "status": "completed"
    },
    "tags": []
   },
   "outputs": [],
   "source": [
    "X=data.drop('class', axis=1)\n",
    "y=data['class']"
   ]
  },
  {
   "cell_type": "code",
   "execution_count": 11,
   "id": "03ea50cd",
   "metadata": {
    "execution": {
     "iopub.execute_input": "2023-11-08T14:40:25.870470Z",
     "iopub.status.busy": "2023-11-08T14:40:25.869864Z",
     "iopub.status.idle": "2023-11-08T14:40:25.882319Z",
     "shell.execute_reply": "2023-11-08T14:40:25.881494Z"
    },
    "papermill": {
     "duration": 0.023024,
     "end_time": "2023-11-08T14:40:25.884488",
     "exception": false,
     "start_time": "2023-11-08T14:40:25.861464",
     "status": "completed"
    },
    "tags": []
   },
   "outputs": [],
   "source": [
    "from sklearn.preprocessing import StandardScaler\n",
    "scaler = StandardScaler(copy=True , with_mean= True , with_std = True)\n",
    "X= scaler.fit_transform(X)"
   ]
  },
  {
   "cell_type": "code",
   "execution_count": 12,
   "id": "5fa56809",
   "metadata": {
    "execution": {
     "iopub.execute_input": "2023-11-08T14:40:25.901441Z",
     "iopub.status.busy": "2023-11-08T14:40:25.900789Z",
     "iopub.status.idle": "2023-11-08T14:40:25.910375Z",
     "shell.execute_reply": "2023-11-08T14:40:25.909634Z"
    },
    "papermill": {
     "duration": 0.020421,
     "end_time": "2023-11-08T14:40:25.912345",
     "exception": false,
     "start_time": "2023-11-08T14:40:25.891924",
     "status": "completed"
    },
    "tags": []
   },
   "outputs": [
    {
     "data": {
      "text/plain": [
       "array([[ 0.16745842, -0.58492272,  1.03148637, -0.34855938, -0.83728027,\n",
       "        -0.94605772, -0.99534154, -0.83806089,  0.        ,  0.21085172,\n",
       "        -0.21763043, -0.36973112,  1.03148936,  1.30931064,  0.66863177],\n",
       "       [ 0.16886159, -0.58311429,  0.05243046, -0.16653251, -0.15415531,\n",
       "        -0.08264457, -0.02604308, -0.83806089,  0.        ,  0.21085172,\n",
       "        -0.21763043, -0.36984929, -0.63621258, -0.87919741,  0.91101156],\n",
       "       [ 0.17057433, -0.58347525,  0.92156796,  0.86709322,  0.59315368,\n",
       "         0.44120145,  0.31452753, -0.83806089,  0.        ,  0.21085172,\n",
       "        -0.21147922, -0.05302706, -0.65633905, -0.60919097,  0.77527888],\n",
       "       [ 0.17455754, -0.58650069, -1.03063038, -0.81362749, -0.63669227,\n",
       "        -0.52660429, -0.43092107, -0.83806089,  0.        ,  0.21085172,\n",
       "        -0.20532801, -0.36999261,  1.03148936,  1.30931064,  0.76073609],\n",
       "       [ 0.17482457, -0.58441247, -1.29023238, -1.17251944, -0.37676237,\n",
       "        -0.02510121,  0.15827647, -0.83806089,  0.        ,  0.21085172,\n",
       "        -0.20532801, -0.36818949,  1.03148936,  1.30931064,  0.77043128],\n",
       "       [ 0.17406874, -0.58159078,  0.97991837,  1.15913585,  1.2396114 ,\n",
       "         1.25349122,  1.34542376, -0.83806089,  0.        ,  0.21085172,\n",
       "        -0.20532801, -0.36889881, -0.63565351, -0.8454466 ,  1.16793412],\n",
       "       [ 0.17442882, -0.58771882,  0.9218576 ,  0.54793007,  0.24763882,\n",
       "         0.07037522, -0.0442872 , -0.83806089,  0.        ,  0.21085172,\n",
       "        -0.20532801, -0.11185311, -0.65633905, -0.60919097,  0.99826828],\n",
       "       [ 0.17517603, -0.58104423,  0.43515363,  0.50034225,  0.50505868,\n",
       "         0.54578672,  0.53849374, -0.83806089,  0.        ,  0.21085172,\n",
       "        -0.20532801, -0.36889818,  1.03148936,  1.30931064,  0.78497407],\n",
       "       [ 0.17568894, -0.58462313, -0.8607082 , -0.4233206 , -0.15505443,\n",
       "        -0.0401308 ,  0.04415727, -0.83806089,  0.        ,  0.21085172,\n",
       "        -0.1991768 , -0.36947888, -0.63621258, -0.87919741,  1.17278172],\n",
       "       [ 0.17671255, -0.58524271,  0.06412468,  0.36155588,  0.61126719,\n",
       "         0.61244768,  0.66793136, -0.83806089,  0.        ,  0.21085172,\n",
       "        -0.1991768 , -0.26550833, -0.65577999, -0.62441192,  0.22750057],\n",
       "       [ 0.17683178, -0.58308602,  0.81867332,  0.45518723,  0.32002733,\n",
       "         0.29758829,  0.31289013, -0.83806089,  0.        ,  0.21085172,\n",
       "        -0.1991768 , -0.36979707,  1.03148936,  1.30931064,  0.74134571],\n",
       "       [ 0.17905309, -0.58403354,  0.25791803,  0.15434418,  0.09531295,\n",
       "         0.1143867 ,  0.15158558, -0.83806089,  0.        ,  0.21085172,\n",
       "        -0.19302559, -0.3681061 ,  1.03148936,  1.30931064,  0.94009713],\n",
       "       [ 0.179404  , -0.58088408,  1.13821874,  0.86650088,  0.76483872,\n",
       "         0.78139043,  0.80556427, -0.83806089,  0.        ,  0.21085172,\n",
       "        -0.19302559, -0.36956736,  1.03148936,  1.30931064,  0.92555434],\n",
       "       [ 0.18062649, -0.58547992,  1.15921765,  0.37678737,  0.13715012,\n",
       "         0.08511578,  0.06767929, -0.83806089,  0.        ,  0.21085172,\n",
       "        -0.19302559, -0.36968672,  1.03148936,  1.30931064,  0.93524953],\n",
       "       [ 0.18123476, -0.58453441,  0.76913279,  0.18696495, -0.19217122,\n",
       "        -0.38043364, -0.54561378, -0.83806089,  0.        ,  0.21085172,\n",
       "        -0.19302559, -0.18427654, -0.65577999, -0.62441192,  0.17417702],\n",
       "       [ 0.18460582, -0.58026059,  0.14357054,  1.30915544,  1.45732014,\n",
       "         1.51360998,  1.2914644 , -0.83806089,  0.        ,  0.21085172,\n",
       "        -0.18687438,  0.3297998 , -0.65633905, -0.60919097,  1.13400095],\n",
       "       [ 0.18190916, -0.58661793,  0.53127794,  0.76494705,  1.01778171,\n",
       "         1.1465937 ,  1.2341887 , -0.83806089,  0.        ,  0.21085172,\n",
       "        -0.18687438, -0.36916795, -0.63565351, -0.8454466 , -1.54187183],\n",
       "       [ 0.18240867, -0.58061649,  0.72660397,  2.04202274,  2.15158106,\n",
       "         2.21584041,  2.33699748, -0.83806089,  0.        ,  0.21085172,\n",
       "        -0.18687438,  2.66073327, -0.65633905, -0.60919097,  1.11461057],\n",
       "       [ 0.18540578, -0.58577178,  0.51243926,  0.14716211,  0.03033282,\n",
       "         0.02413909,  0.05003362, -0.83806089,  0.        ,  0.21085172,\n",
       "        -0.18072317, -0.36909046, -0.63621258, -0.87919741,  1.33275238],\n",
       "       [ 0.18523939, -0.58156585, -0.96878016, -0.531168  , -0.28296358,\n",
       "        -0.33967158, -0.27939936, -0.83806089,  0.        ,  0.21085172,\n",
       "        -0.18072317, -0.18251527, -0.65633905, -0.60919097,  1.35214276]])"
      ]
     },
     "execution_count": 12,
     "metadata": {},
     "output_type": "execute_result"
    }
   ],
   "source": [
    "X[:20]"
   ]
  },
  {
   "cell_type": "code",
   "execution_count": 13,
   "id": "85ccc674",
   "metadata": {
    "execution": {
     "iopub.execute_input": "2023-11-08T14:40:25.929374Z",
     "iopub.status.busy": "2023-11-08T14:40:25.928742Z",
     "iopub.status.idle": "2023-11-08T14:40:25.935596Z",
     "shell.execute_reply": "2023-11-08T14:40:25.934830Z"
    },
    "papermill": {
     "duration": 0.017953,
     "end_time": "2023-11-08T14:40:25.937701",
     "exception": false,
     "start_time": "2023-11-08T14:40:25.919748",
     "status": "completed"
    },
    "tags": []
   },
   "outputs": [],
   "source": [
    "X_train, X_test, y_train, y_test = train_test_split(X, y, test_size=0.3, random_state=128)"
   ]
  },
  {
   "cell_type": "code",
   "execution_count": 14,
   "id": "2a20ea29",
   "metadata": {
    "execution": {
     "iopub.execute_input": "2023-11-08T14:40:25.955272Z",
     "iopub.status.busy": "2023-11-08T14:40:25.954814Z",
     "iopub.status.idle": "2023-11-08T14:40:26.212094Z",
     "shell.execute_reply": "2023-11-08T14:40:26.210777Z"
    },
    "papermill": {
     "duration": 0.269074,
     "end_time": "2023-11-08T14:40:26.214502",
     "exception": false,
     "start_time": "2023-11-08T14:40:25.945428",
     "status": "completed"
    },
    "tags": []
   },
   "outputs": [
    {
     "data": {
      "text/plain": [
       "<Axes: xlabel='class', ylabel='count'>"
      ]
     },
     "execution_count": 14,
     "metadata": {},
     "output_type": "execute_result"
    },
    {
     "data": {
      "image/png": "[encoded data removed]",
      "text/plain": [
       "<Figure size 640x480 with 1 Axes>"
      ]
     },
     "metadata": {},
     "output_type": "display_data"
    }
   ],
   "source": [
    "sns.countplot(x=data['class'])"
   ]
  },
  {
   "cell_type": "code",
   "execution_count": 15,
   "id": "c601f6c5",
   "metadata": {
    "execution": {
     "iopub.execute_input": "2023-11-08T14:40:26.232219Z",
     "iopub.status.busy": "2023-11-08T14:40:26.231809Z",
     "iopub.status.idle": "2023-11-08T14:40:26.236845Z",
     "shell.execute_reply": "2023-11-08T14:40:26.235792Z"
    },
    "papermill": {
     "duration": 0.016758,
     "end_time": "2023-11-08T14:40:26.239283",
     "exception": false,
     "start_time": "2023-11-08T14:40:26.222525",
     "status": "completed"
    },
    "tags": []
   },
   "outputs": [],
   "source": [
    "dtClassifer = DecisionTreeClassifier(max_leaf_nodes=15,max_depth=3)"
   ]
  },
  {
   "cell_type": "code",
   "execution_count": 16,
   "id": "7b819824",
   "metadata": {
    "execution": {
     "iopub.execute_input": "2023-11-08T14:40:26.256704Z",
     "iopub.status.busy": "2023-11-08T14:40:26.256337Z",
     "iopub.status.idle": "2023-11-08T14:40:26.302419Z",
     "shell.execute_reply": "2023-11-08T14:40:26.301297Z"
    },
    "papermill": {
     "duration": 0.05749,
     "end_time": "2023-11-08T14:40:26.304676",
     "exception": false,
     "start_time": "2023-11-08T14:40:26.247186",
     "status": "completed"
    },
    "tags": []
   },
   "outputs": [
    {
     "data": {
      "text/html": [
       "<style>#sk-container-id-1 {color: black;background-color: white;}#sk-container-id-1 pre{padding: 0;}#sk-container-id-1 div.sk-toggleable {background-color: white;}#sk-container-id-1 label.sk-toggleable__label {cursor: pointer;display: block;width: 100%;margin-bottom: 0;padding: 0.3em;box-sizing: border-box;text-align: center;}#sk-container-id-1 label.sk-toggleable__label-arrow:before {content: \"▸\";float: left;margin-right: 0.25em;color: #696969;}#sk-container-id-1 label.sk-toggleable__label-arrow:hover:before {color: black;}#sk-container-id-1 div.sk-estimator:hover label.sk-toggleable__label-arrow:before {color: black;}#sk-container-id-1 div.sk-toggleable__content {max-height: 0;max-width: 0;overflow: hidden;text-align: left;background-color: #f0f8ff;}#sk-container-id-1 div.sk-toggleable__content pre {margin: 0.2em;color: black;border-radius: 0.25em;background-color: #f0f8ff;}#sk-container-id-1 input.sk-toggleable__control:checked~div.sk-toggleable__content {max-height: 200px;max-width: 100%;overflow: auto;}#sk-container-id-1 input.sk-toggleable__control:checked~label.sk-toggleable__label-arrow:before {content: \"▾\";}#sk-container-id-1 div.sk-estimator input.sk-toggleable__control:checked~label.sk-toggleable__label {background-color: #d4ebff;}#sk-container-id-1 div.sk-label input.sk-toggleable__control:checked~label.sk-toggleable__label {background-color: #d4ebff;}#sk-container-id-1 input.sk-hidden--visually {border: 0;clip: rect(1px 1px 1px 1px);clip: rect(1px, 1px, 1px, 1px);height: 1px;margin: -1px;overflow: hidden;padding: 0;position: absolute;width: 1px;}#sk-container-id-1 div.sk-estimator {font-family: monospace;background-color: #f0f8ff;border: 1px dotted black;border-radius: 0.25em;box-sizing: border-box;margin-bottom: 0.5em;}#sk-container-id-1 div.sk-estimator:hover {background-color: #d4ebff;}#sk-container-id-1 div.sk-parallel-item::after {content: \"\";width: 100%;border-bottom: 1px solid gray;flex-grow: 1;}#sk-container-id-1 div.sk-label:hover label.sk-toggleable__label {background-color: #d4ebff;}#sk-container-id-1 div.sk-serial::before {content: \"\";position: absolute;border-left: 1px solid gray;box-sizing: border-box;top: 0;bottom: 0;left: 50%;z-index: 0;}#sk-container-id-1 div.sk-serial {display: flex;flex-direction: column;align-items: center;background-color: white;padding-right: 0.2em;padding-left: 0.2em;position: relative;}#sk-container-id-1 div.sk-item {position: relative;z-index: 1;}#sk-container-id-1 div.sk-parallel {display: flex;align-items: stretch;justify-content: center;background-color: white;position: relative;}#sk-container-id-1 div.sk-item::before, #sk-container-id-1 div.sk-parallel-item::before {content: \"\";position: absolute;border-left: 1px solid gray;box-sizing: border-box;top: 0;bottom: 0;left: 50%;z-index: -1;}#sk-container-id-1 div.sk-parallel-item {display: flex;flex-direction: column;z-index: 1;position: relative;background-color: white;}#sk-container-id-1 div.sk-parallel-item:first-child::after {align-self: flex-end;width: 50%;}#sk-container-id-1 div.sk-parallel-item:last-child::after {align-self: flex-start;width: 50%;}#sk-container-id-1 div.sk-parallel-item:only-child::after {width: 0;}#sk-container-id-1 div.sk-dashed-wrapped {border: 1px dashed gray;margin: 0 0.4em 0.5em 0.4em;box-sizing: border-box;padding-bottom: 0.4em;background-color: white;}#sk-container-id-1 div.sk-label label {font-family: monospace;font-weight: bold;display: inline-block;line-height: 1.2em;}#sk-container-id-1 div.sk-label-container {text-align: center;}#sk-container-id-1 div.sk-container {/* jupyter's `normalize.less` sets `[hidden] { display: none; }` but bootstrap.min.css set `[hidden] { display: none !important; }` so we also need the `!important` here to be able to override the default hidden behavior on the sphinx rendered scikit-learn.org. See: https://github.com/scikit-learn/scikit-learn/issues/21755 */display: inline-block !important;position: relative;}#sk-container-id-1 div.sk-text-repr-fallback {display: none;}</style><div id=\"sk-container-id-1\" class=\"sk-top-container\"><div class=\"sk-text-repr-fallback\"><pre>DecisionTreeClassifier(max_depth=3, max_leaf_nodes=15)</pre><b>In a Jupyter environment, please rerun this cell to show the HTML representation or trust the notebook. <br />On GitHub, the HTML representation is unable to render, please try loading this page with nbviewer.org.</b></div><div class=\"sk-container\" hidden><div class=\"sk-item\"><div class=\"sk-estimator sk-toggleable\"><input class=\"sk-toggleable__control sk-hidden--visually\" id=\"sk-estimator-id-1\" type=\"checkbox\" checked><label for=\"sk-estimator-id-1\" class=\"sk-toggleable__label sk-toggleable__label-arrow\">DecisionTreeClassifier</label><div class=\"sk-toggleable__content\"><pre>DecisionTreeClassifier(max_depth=3, max_leaf_nodes=15)</pre></div></div></div></div></div>"
      ],
      "text/plain": [
       "DecisionTreeClassifier(max_depth=3, max_leaf_nodes=15)"
      ]
     },
     "execution_count": 16,
     "metadata": {},
     "output_type": "execute_result"
    }
   ],
   "source": [
    "dtClassifer.fit(X_train, y_train)"
   ]
  },
  {
   "cell_type": "code",
   "execution_count": 17,
   "id": "5506bc5e",
   "metadata": {
    "execution": {
     "iopub.execute_input": "2023-11-08T14:40:26.324101Z",
     "iopub.status.busy": "2023-11-08T14:40:26.323284Z",
     "iopub.status.idle": "2023-11-08T14:40:26.328441Z",
     "shell.execute_reply": "2023-11-08T14:40:26.327677Z"
    },
    "papermill": {
     "duration": 0.01707,
     "end_time": "2023-11-08T14:40:26.330457",
     "exception": false,
     "start_time": "2023-11-08T14:40:26.313387",
     "status": "completed"
    },
    "tags": []
   },
   "outputs": [],
   "source": [
    "y_preds = dtClassifer.predict(X_test)"
   ]
  },
  {
   "cell_type": "code",
   "execution_count": 18,
   "id": "0973fef3",
   "metadata": {
    "execution": {
     "iopub.execute_input": "2023-11-08T14:40:26.349004Z",
     "iopub.status.busy": "2023-11-08T14:40:26.347926Z",
     "iopub.status.idle": "2023-11-08T14:40:26.354526Z",
     "shell.execute_reply": "2023-11-08T14:40:26.353624Z"
    },
    "papermill": {
     "duration": 0.018039,
     "end_time": "2023-11-08T14:40:26.356822",
     "exception": false,
     "start_time": "2023-11-08T14:40:26.338783",
     "status": "completed"
    },
    "tags": []
   },
   "outputs": [
    {
     "name": "stdout",
     "output_type": "stream",
     "text": [
      "[2 0 2 2 0 0 2 1 0 0] \n",
      " 7054    2\n",
      "4692    0\n",
      "907     2\n",
      "4498    2\n",
      "9957    0\n",
      "3341    0\n",
      "7152    2\n",
      "1152    1\n",
      "7105    0\n",
      "2066    0\n",
      "Name: class, dtype: int64\n"
     ]
    }
   ],
   "source": [
    "print(y_preds[:10],'\\n',y_test[:10])"
   ]
  },
  {
   "cell_type": "code",
   "execution_count": 19,
   "id": "b8af9511",
   "metadata": {
    "execution": {
     "iopub.execute_input": "2023-11-08T14:40:26.374472Z",
     "iopub.status.busy": "2023-11-08T14:40:26.373834Z",
     "iopub.status.idle": "2023-11-08T14:40:26.391109Z",
     "shell.execute_reply": "2023-11-08T14:40:26.389766Z"
    },
    "papermill": {
     "duration": 0.028686,
     "end_time": "2023-11-08T14:40:26.393483",
     "exception": false,
     "start_time": "2023-11-08T14:40:26.364797",
     "status": "completed"
    },
    "tags": []
   },
   "outputs": [
    {
     "name": "stdout",
     "output_type": "stream",
     "text": [
      "\u001b[1m  Decision Tree -\n",
      "  \u001b[0m               precision    recall  f1-score   support\n",
      "\n",
      "           0       0.99      0.99      0.99      1504\n",
      "           1       0.94      0.98      0.96       255\n",
      "           2       1.00      1.00      1.00      1241\n",
      "\n",
      "    accuracy                           0.99      3000\n",
      "   macro avg       0.98      0.99      0.98      3000\n",
      "weighted avg       0.99      0.99      0.99      3000\n",
      "\n",
      "\n"
     ]
    }
   ],
   "source": [
    "from sklearn.metrics import classification_report\n",
    "target_names = ['0', '1', '2']\n",
    "print('\\033[1m  Decision Tree -\\n  \\033[0m',classification_report(y_preds,y_test,target_names=target_names) + '\\n')"
   ]
  }
 ],
 "metadata": {
  "kernelspec": {
   "display_name": "Python 3",
   "language": "python",
   "name": "python3"
  },
  "language_info": {
   "codemirror_mode": {
    "name": "ipython",
    "version": 3
   },
   "file_extension": ".py",
   "mimetype": "text/x-python",
   "name": "python",
   "nbconvert_exporter": "python",
   "pygments_lexer": "ipython3",
   "version": "3.10.12"
  },
  "papermill": {
   "default_parameters": {},
   "duration": 16.969627,
   "end_time": "2023-11-08T14:40:28.025829",
   "environment_variables": {},
   "exception": null,
   "input_path": "__notebook__.ipynb",
   "output_path": "__notebook__.ipynb",
   "parameters": {},
   "start_time": "2023-11-08T14:40:11.056202",
   "version": "2.4.0"
  }
 },
 "nbformat": 4,
 "nbformat_minor": 5
}
